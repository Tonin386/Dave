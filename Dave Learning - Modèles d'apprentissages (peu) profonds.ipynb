{
 "cells": [
  {
   "cell_type": "markdown",
   "id": "07768ed3",
   "metadata": {},
   "source": [
    "# Dave - Modèles d'apprentissage (peu) profonds"
   ]
  },
  {
   "cell_type": "code",
   "execution_count": 1,
   "id": "44fa51d9",
   "metadata": {},
   "outputs": [],
   "source": [
    "from sklearn.model_selection import train_test_split\n",
    "from sklearn.preprocessing import MinMaxScaler\n",
    "import numpy as np\n",
    "import pandas as pd\n",
    "import argparse\n",
    "import torch\n",
    "import time"
   ]
  },
  {
   "cell_type": "code",
   "execution_count": 2,
   "id": "571db65a",
   "metadata": {},
   "outputs": [],
   "source": [
    "from tensorflow.keras.models import Sequential\n",
    "from tensorflow.keras.layers import Dense"
   ]
  },
  {
   "cell_type": "code",
   "execution_count": 3,
   "id": "5887c5a9",
   "metadata": {},
   "outputs": [],
   "source": [
    "data = pd.read_csv(\"cleaned_data.csv\")\n",
    "X = data.iloc[:,0:-1]\n",
    "Y = data.iloc[:,-1]\n",
    "y = np.zeros((len(Y), 10))\n",
    "for i in range(len(Y)):\n",
    "    y[i][int(Y[i])] = 1 \n",
    "labels = [\"C201\", \"C203\", \"C204\", \"C205\", \"C206\", \"C207\", \"C208\", \"C210\", \"DC\", \"MC\"]"
   ]
  },
  {
   "cell_type": "markdown",
   "id": "ef2f2039",
   "metadata": {},
   "source": [
    "## I - Chargement, partionnement et normalisation des données"
   ]
  },
  {
   "cell_type": "code",
   "execution_count": 4,
   "id": "f7e46d59",
   "metadata": {},
   "outputs": [],
   "source": [
    "X_train, X_test, y_train, y_test = train_test_split(X, y, test_size=0.2, random_state=52)\n",
    "scaler = MinMaxScaler()\n",
    "X_train = scaler.fit_transform(X_train)\n",
    "X_test = scaler.transform(X_test)"
   ]
  },
  {
   "cell_type": "code",
   "execution_count": 5,
   "id": "36bd7f0d",
   "metadata": {},
   "outputs": [],
   "source": [
    "# define training hyperparameters\n",
    "INIT_LR = 1e-3\n",
    "BATCH_SIZE = 64\n",
    "EPOCHS = 75\n",
    "# define the train and val splits\n",
    "TRAIN_SPLIT = 0.9\n",
    "VAL_SPLIT = 1 - TRAIN_SPLIT\n",
    "# set the device we will be using to train the model\n",
    "device = torch.device(\"cuda\" if torch.cuda.is_available() else \"cpu\")"
   ]
  },
  {
   "cell_type": "code",
   "execution_count": 6,
   "id": "639def67",
   "metadata": {},
   "outputs": [],
   "source": [
    "X_train, X_val, y_train, y_val = train_test_split(X_train, y_train, test_size=VAL_SPLIT, random_state=42)"
   ]
  },
  {
   "cell_type": "markdown",
   "id": "98d51295",
   "metadata": {},
   "source": [
    "## II - Modèle séquentiel"
   ]
  },
  {
   "cell_type": "markdown",
   "id": "cbb3f3e1",
   "metadata": {},
   "source": [
    "#### A) Entraînement"
   ]
  },
  {
   "cell_type": "code",
   "execution_count": 7,
   "id": "7f3e9f51",
   "metadata": {},
   "outputs": [],
   "source": [
    "model = Sequential()\n",
    "model.add(Dense(51, input_shape=(51,), activation='relu'))\n",
    "model.add(Dense(30, activation='relu'))\n",
    "model.add(Dense(10, activation='sigmoid'))"
   ]
  },
  {
   "cell_type": "code",
   "execution_count": 8,
   "id": "7583d055",
   "metadata": {
    "scrolled": false
   },
   "outputs": [
    {
     "name": "stdout",
     "output_type": "stream",
     "text": [
      "Epoch 1/75\n",
      "432/432 [==============================] - 3s 4ms/step - loss: 0.2436 - accuracy: 0.5924 - val_loss: 0.1175 - val_accuracy: 0.9042\n",
      "Epoch 2/75\n",
      "432/432 [==============================] - 1s 3ms/step - loss: 0.0779 - accuracy: 0.9391 - val_loss: 0.0560 - val_accuracy: 0.9375\n",
      "Epoch 3/75\n",
      "432/432 [==============================] - 1s 3ms/step - loss: 0.0407 - accuracy: 0.9590 - val_loss: 0.0352 - val_accuracy: 0.9583\n",
      "Epoch 4/75\n",
      "432/432 [==============================] - 1s 3ms/step - loss: 0.0268 - accuracy: 0.9692 - val_loss: 0.0247 - val_accuracy: 0.9667\n",
      "Epoch 5/75\n",
      "432/432 [==============================] - 1s 3ms/step - loss: 0.0192 - accuracy: 0.9769 - val_loss: 0.0210 - val_accuracy: 0.9708\n",
      "Epoch 6/75\n",
      "432/432 [==============================] - 1s 3ms/step - loss: 0.0144 - accuracy: 0.9854 - val_loss: 0.0156 - val_accuracy: 0.9812\n",
      "Epoch 7/75\n",
      "432/432 [==============================] - 1s 3ms/step - loss: 0.0115 - accuracy: 0.9891 - val_loss: 0.0125 - val_accuracy: 0.9875\n",
      "Epoch 8/75\n",
      "432/432 [==============================] - 1s 3ms/step - loss: 0.0085 - accuracy: 0.9944 - val_loss: 0.0089 - val_accuracy: 0.9854\n",
      "Epoch 9/75\n",
      "432/432 [==============================] - 1s 3ms/step - loss: 0.0067 - accuracy: 0.9944 - val_loss: 0.0073 - val_accuracy: 0.9958\n",
      "Epoch 10/75\n",
      "432/432 [==============================] - 1s 3ms/step - loss: 0.0053 - accuracy: 0.9965 - val_loss: 0.0061 - val_accuracy: 0.9958\n",
      "Epoch 11/75\n",
      "432/432 [==============================] - 1s 3ms/step - loss: 0.0046 - accuracy: 0.9975 - val_loss: 0.0052 - val_accuracy: 0.9979\n",
      "Epoch 12/75\n",
      "432/432 [==============================] - 1s 3ms/step - loss: 0.0037 - accuracy: 0.9972 - val_loss: 0.0056 - val_accuracy: 0.9937\n",
      "Epoch 13/75\n",
      "432/432 [==============================] - 1s 3ms/step - loss: 0.0030 - accuracy: 0.9986 - val_loss: 0.0032 - val_accuracy: 0.9958\n",
      "Epoch 14/75\n",
      "432/432 [==============================] - 1s 3ms/step - loss: 0.0028 - accuracy: 0.9984 - val_loss: 0.0031 - val_accuracy: 0.9979\n",
      "Epoch 15/75\n",
      "432/432 [==============================] - 1s 3ms/step - loss: 0.0026 - accuracy: 0.9981 - val_loss: 0.0041 - val_accuracy: 0.9937\n",
      "Epoch 16/75\n",
      "432/432 [==============================] - 1s 3ms/step - loss: 0.0021 - accuracy: 0.9993 - val_loss: 0.0025 - val_accuracy: 0.9979\n",
      "Epoch 17/75\n",
      "432/432 [==============================] - 1s 3ms/step - loss: 0.0019 - accuracy: 0.9981 - val_loss: 0.0021 - val_accuracy: 0.9979\n",
      "Epoch 18/75\n",
      "432/432 [==============================] - 1s 3ms/step - loss: 0.0019 - accuracy: 0.9981 - val_loss: 0.0023 - val_accuracy: 0.9979\n",
      "Epoch 19/75\n",
      "432/432 [==============================] - 1s 3ms/step - loss: 0.0016 - accuracy: 0.9986 - val_loss: 0.0013 - val_accuracy: 1.0000\n",
      "Epoch 20/75\n",
      "432/432 [==============================] - 1s 3ms/step - loss: 0.0018 - accuracy: 0.9984 - val_loss: 0.0015 - val_accuracy: 0.9979\n",
      "Epoch 21/75\n",
      "432/432 [==============================] - 1s 3ms/step - loss: 0.0012 - accuracy: 0.9993 - val_loss: 0.0023 - val_accuracy: 0.9979\n",
      "Epoch 22/75\n",
      "432/432 [==============================] - 1s 3ms/step - loss: 0.0013 - accuracy: 0.9986 - val_loss: 0.0013 - val_accuracy: 1.0000\n",
      "Epoch 23/75\n",
      "432/432 [==============================] - 1s 3ms/step - loss: 0.0011 - accuracy: 0.9986 - val_loss: 9.0002e-04 - val_accuracy: 1.0000\n",
      "Epoch 24/75\n",
      "432/432 [==============================] - 1s 3ms/step - loss: 0.0012 - accuracy: 0.9986 - val_loss: 0.0013 - val_accuracy: 0.9979\n",
      "Epoch 25/75\n",
      "432/432 [==============================] - 1s 3ms/step - loss: 9.0025e-04 - accuracy: 0.9993 - val_loss: 7.7694e-04 - val_accuracy: 1.0000\n",
      "Epoch 26/75\n",
      "432/432 [==============================] - 1s 3ms/step - loss: 8.1065e-04 - accuracy: 0.9995 - val_loss: 0.0011 - val_accuracy: 0.9979\n",
      "Epoch 27/75\n",
      "432/432 [==============================] - 1s 3ms/step - loss: 8.5960e-04 - accuracy: 0.9995 - val_loss: 5.2796e-04 - val_accuracy: 1.0000\n",
      "Epoch 28/75\n",
      "432/432 [==============================] - 1s 3ms/step - loss: 7.6010e-04 - accuracy: 0.9988 - val_loss: 0.0042 - val_accuracy: 0.9896\n",
      "Epoch 29/75\n",
      "432/432 [==============================] - 1s 3ms/step - loss: 6.2558e-04 - accuracy: 0.9993 - val_loss: 4.4089e-04 - val_accuracy: 1.0000\n",
      "Epoch 30/75\n",
      "432/432 [==============================] - 1s 3ms/step - loss: 0.0012 - accuracy: 0.9979 - val_loss: 0.0017 - val_accuracy: 0.9979\n",
      "Epoch 31/75\n",
      "432/432 [==============================] - 1s 3ms/step - loss: 8.8319e-04 - accuracy: 0.9988 - val_loss: 4.3795e-04 - val_accuracy: 1.0000\n",
      "Epoch 32/75\n",
      "432/432 [==============================] - 1s 3ms/step - loss: 4.8072e-04 - accuracy: 0.9995 - val_loss: 5.0562e-04 - val_accuracy: 1.0000\n",
      "Epoch 33/75\n",
      "432/432 [==============================] - 1s 3ms/step - loss: 5.5971e-04 - accuracy: 0.9991 - val_loss: 0.0020 - val_accuracy: 0.9958\n",
      "Epoch 34/75\n",
      "432/432 [==============================] - 1s 3ms/step - loss: 6.6135e-04 - accuracy: 0.9991 - val_loss: 6.0611e-04 - val_accuracy: 1.0000\n",
      "Epoch 35/75\n",
      "432/432 [==============================] - 1s 3ms/step - loss: 4.4507e-04 - accuracy: 0.9991 - val_loss: 3.6851e-04 - val_accuracy: 1.0000\n",
      "Epoch 36/75\n",
      "432/432 [==============================] - 1s 3ms/step - loss: 1.9024e-04 - accuracy: 1.0000 - val_loss: 4.3795e-04 - val_accuracy: 1.0000\n",
      "Epoch 37/75\n",
      "432/432 [==============================] - 1s 3ms/step - loss: 7.6209e-04 - accuracy: 0.9993 - val_loss: 2.9822e-04 - val_accuracy: 1.0000\n",
      "Epoch 38/75\n",
      "432/432 [==============================] - 1s 3ms/step - loss: 3.3937e-04 - accuracy: 0.9995 - val_loss: 2.9556e-04 - val_accuracy: 1.0000\n",
      "Epoch 39/75\n",
      "432/432 [==============================] - 1s 3ms/step - loss: 4.0570e-04 - accuracy: 0.9995 - val_loss: 5.3398e-04 - val_accuracy: 0.9979\n",
      "Epoch 40/75\n",
      "432/432 [==============================] - 1s 3ms/step - loss: 3.6537e-04 - accuracy: 0.9993 - val_loss: 2.7375e-04 - val_accuracy: 1.0000\n",
      "Epoch 41/75\n",
      "432/432 [==============================] - 1s 3ms/step - loss: 1.8218e-04 - accuracy: 1.0000 - val_loss: 9.8157e-04 - val_accuracy: 1.0000\n",
      "Epoch 42/75\n",
      "432/432 [==============================] - 1s 3ms/step - loss: 6.6169e-04 - accuracy: 0.9986 - val_loss: 3.6333e-04 - val_accuracy: 1.0000\n",
      "Epoch 43/75\n",
      "432/432 [==============================] - 1s 3ms/step - loss: 2.1717e-04 - accuracy: 0.9998 - val_loss: 3.1359e-04 - val_accuracy: 1.0000\n",
      "Epoch 44/75\n",
      "432/432 [==============================] - 1s 3ms/step - loss: 4.8732e-04 - accuracy: 0.9991 - val_loss: 2.8814e-04 - val_accuracy: 1.0000\n",
      "Epoch 45/75\n",
      "432/432 [==============================] - 1s 3ms/step - loss: 5.3893e-04 - accuracy: 0.9988 - val_loss: 2.4542e-04 - val_accuracy: 1.0000\n",
      "Epoch 46/75\n",
      "432/432 [==============================] - 1s 3ms/step - loss: 1.5269e-04 - accuracy: 1.0000 - val_loss: 1.7954e-04 - val_accuracy: 1.0000\n",
      "Epoch 47/75\n",
      "432/432 [==============================] - 1s 3ms/step - loss: 9.5240e-05 - accuracy: 1.0000 - val_loss: 1.0885e-04 - val_accuracy: 1.0000\n",
      "Epoch 48/75\n",
      "432/432 [==============================] - 1s 3ms/step - loss: 1.0290e-04 - accuracy: 1.0000 - val_loss: 8.5330e-04 - val_accuracy: 0.9979\n",
      "Epoch 49/75\n",
      "432/432 [==============================] - 1s 3ms/step - loss: 3.0762e-04 - accuracy: 0.9998 - val_loss: 1.7460e-04 - val_accuracy: 1.0000\n",
      "Epoch 50/75\n",
      "432/432 [==============================] - 1s 3ms/step - loss: 3.7778e-04 - accuracy: 0.9993 - val_loss: 1.4963e-04 - val_accuracy: 1.0000\n",
      "Epoch 51/75\n",
      "432/432 [==============================] - 1s 3ms/step - loss: 1.9458e-04 - accuracy: 0.9995 - val_loss: 2.2241e-04 - val_accuracy: 1.0000\n",
      "Epoch 52/75\n",
      "432/432 [==============================] - 1s 3ms/step - loss: 9.8654e-05 - accuracy: 1.0000 - val_loss: 1.3189e-04 - val_accuracy: 1.0000\n",
      "Epoch 53/75\n",
      "432/432 [==============================] - 1s 3ms/step - loss: 9.9217e-04 - accuracy: 0.9981 - val_loss: 0.0014 - val_accuracy: 1.0000\n",
      "Epoch 54/75\n",
      "432/432 [==============================] - 1s 3ms/step - loss: 2.9607e-04 - accuracy: 0.9995 - val_loss: 1.8500e-04 - val_accuracy: 1.0000\n",
      "Epoch 55/75\n",
      "432/432 [==============================] - 1s 3ms/step - loss: 6.5518e-05 - accuracy: 1.0000 - val_loss: 1.2980e-04 - val_accuracy: 1.0000\n",
      "Epoch 56/75\n",
      "432/432 [==============================] - 1s 3ms/step - loss: 0.0011 - accuracy: 0.9986 - val_loss: 3.7371e-04 - val_accuracy: 1.0000\n"
     ]
    },
    {
     "name": "stdout",
     "output_type": "stream",
     "text": [
      "Epoch 57/75\n",
      "432/432 [==============================] - 1s 3ms/step - loss: 6.3388e-05 - accuracy: 1.0000 - val_loss: 1.3983e-04 - val_accuracy: 1.0000\n",
      "Epoch 58/75\n",
      "432/432 [==============================] - 1s 3ms/step - loss: 2.8816e-04 - accuracy: 0.9993 - val_loss: 0.0026 - val_accuracy: 0.9937\n",
      "Epoch 59/75\n",
      "432/432 [==============================] - 1s 3ms/step - loss: 4.8730e-05 - accuracy: 1.0000 - val_loss: 7.4250e-05 - val_accuracy: 1.0000\n",
      "Epoch 60/75\n",
      "432/432 [==============================] - 1s 3ms/step - loss: 5.9178e-05 - accuracy: 1.0000 - val_loss: 2.1333e-04 - val_accuracy: 1.0000\n",
      "Epoch 61/75\n",
      "432/432 [==============================] - 1s 3ms/step - loss: 4.7254e-05 - accuracy: 1.0000 - val_loss: 7.9000e-05 - val_accuracy: 1.0000\n",
      "Epoch 62/75\n",
      "432/432 [==============================] - 1s 3ms/step - loss: 3.4648e-05 - accuracy: 1.0000 - val_loss: 1.1384e-04 - val_accuracy: 1.0000\n",
      "Epoch 63/75\n",
      "432/432 [==============================] - 1s 3ms/step - loss: 2.5708e-04 - accuracy: 0.9995 - val_loss: 0.0011 - val_accuracy: 0.9979\n",
      "Epoch 64/75\n",
      "432/432 [==============================] - 1s 3ms/step - loss: 8.0665e-04 - accuracy: 0.9991 - val_loss: 1.1128e-04 - val_accuracy: 1.0000\n",
      "Epoch 65/75\n",
      "432/432 [==============================] - 1s 3ms/step - loss: 8.0897e-05 - accuracy: 1.0000 - val_loss: 2.3870e-04 - val_accuracy: 1.0000\n",
      "Epoch 66/75\n",
      "432/432 [==============================] - 1s 3ms/step - loss: 4.2880e-05 - accuracy: 1.0000 - val_loss: 2.1169e-04 - val_accuracy: 1.0000\n",
      "Epoch 67/75\n",
      "432/432 [==============================] - 1s 3ms/step - loss: 4.2202e-04 - accuracy: 0.9991 - val_loss: 0.0043 - val_accuracy: 0.9937\n",
      "Epoch 68/75\n",
      "432/432 [==============================] - 1s 3ms/step - loss: 0.0015 - accuracy: 0.9984 - val_loss: 1.0873e-04 - val_accuracy: 1.0000\n",
      "Epoch 69/75\n",
      "432/432 [==============================] - 1s 3ms/step - loss: 4.1157e-05 - accuracy: 1.0000 - val_loss: 1.0836e-04 - val_accuracy: 1.0000\n",
      "Epoch 70/75\n",
      "432/432 [==============================] - 1s 3ms/step - loss: 3.6530e-05 - accuracy: 1.0000 - val_loss: 9.3210e-05 - val_accuracy: 1.0000\n",
      "Epoch 71/75\n",
      "432/432 [==============================] - 1s 3ms/step - loss: 4.0114e-05 - accuracy: 1.0000 - val_loss: 7.1630e-05 - val_accuracy: 1.0000\n",
      "Epoch 72/75\n",
      "432/432 [==============================] - 1s 3ms/step - loss: 4.5802e-05 - accuracy: 1.0000 - val_loss: 2.2827e-04 - val_accuracy: 1.0000\n",
      "Epoch 73/75\n",
      "432/432 [==============================] - 1s 3ms/step - loss: 4.4833e-05 - accuracy: 1.0000 - val_loss: 8.6584e-05 - val_accuracy: 1.0000\n",
      "Epoch 74/75\n",
      "432/432 [==============================] - 1s 3ms/step - loss: 2.5543e-05 - accuracy: 1.0000 - val_loss: 4.6165e-05 - val_accuracy: 1.0000\n",
      "Epoch 75/75\n",
      "432/432 [==============================] - 1s 3ms/step - loss: 3.5978e-05 - accuracy: 1.0000 - val_loss: 2.8015e-04 - val_accuracy: 1.0000\n",
      "Exec time: 103.628003 seconds\n"
     ]
    }
   ],
   "source": [
    "st = time.time()\n",
    "model.compile(loss='binary_crossentropy', optimizer='adam', metrics=['accuracy'])\n",
    "history = model.fit(X_train, y_train, validation_data=(X_val, y_val), epochs=EPOCHS, batch_size=10)\n",
    "et = time.time()\n",
    "elapsed = et - st\n",
    "print(\"Exec time: %f seconds\" % elapsed)"
   ]
  },
  {
   "cell_type": "markdown",
   "id": "d6b0e733",
   "metadata": {},
   "source": [
    "#### B) Phase de test"
   ]
  },
  {
   "cell_type": "code",
   "execution_count": 9,
   "id": "2c5f7bee",
   "metadata": {},
   "outputs": [
    {
     "name": "stdout",
     "output_type": "stream",
     "text": [
      "38/38 [==============================] - 0s 3ms/step - loss: 4.0185e-04 - accuracy: 0.9992\n",
      "Accuracy: 99.92\n"
     ]
    }
   ],
   "source": [
    "_, accuracy = model.evaluate(X_test, y_test)\n",
    "print('Accuracy: %.2f' % (accuracy*100))"
   ]
  },
  {
   "cell_type": "markdown",
   "id": "6dbf3292",
   "metadata": {},
   "source": [
    "####  C) Sauvegarde et résultats"
   ]
  },
  {
   "cell_type": "code",
   "execution_count": 10,
   "id": "dec67aa0",
   "metadata": {},
   "outputs": [],
   "source": [
    "import pickle\n",
    "with open(\"model_nn.sav\", \"wb\") as file:\n",
    "    pickle.dump(model, file)"
   ]
  },
  {
   "cell_type": "code",
   "execution_count": 11,
   "id": "d06204c0",
   "metadata": {},
   "outputs": [
    {
     "data": {
      "image/png": "[encoded data removed]",
      "text/plain": [
       "<Figure size 640x480 with 1 Axes>"
      ]
     },
     "metadata": {},
     "output_type": "display_data"
    },
    {
     "data": {
      "image/png": "[encoded data removed]",
      "text/plain": [
       "<Figure size 640x480 with 1 Axes>"
      ]
     },
     "metadata": {},
     "output_type": "display_data"
    }
   ],
   "source": [
    "import matplotlib.pyplot as plt\n",
    "\n",
    "# Plot training and validation loss\n",
    "plt.plot(history.history['loss'], label='Training Loss')\n",
    "plt.plot(history.history['val_loss'], label='Validation Loss')\n",
    "plt.xlabel('Epochs')\n",
    "plt.ylabel('Loss')\n",
    "plt.legend()\n",
    "plt.show()\n",
    "\n",
    "# Plot training and validation accuracy\n",
    "plt.plot(history.history['accuracy'], label='Training Accuracy')\n",
    "plt.plot(history.history['val_accuracy'], label='Validation Accuracy')\n",
    "plt.xlabel('Epochs')\n",
    "plt.ylabel('Accuracy')\n",
    "plt.legend()\n",
    "plt.show()"
   ]
  }
 ],
 "metadata": {
  "kernelspec": {
   "display_name": "Python 3 (ipykernel)",
   "language": "python",
   "name": "python3"
  },
  "language_info": {
   "codemirror_mode": {
    "name": "ipython",
    "version": 3
   },
   "file_extension": ".py",
   "mimetype": "text/x-python",
   "name": "python",
   "nbconvert_exporter": "python",
   "pygments_lexer": "ipython3",
   "version": "3.10.11"
  }
 },
 "nbformat": 4,
 "nbformat_minor": 5
}
